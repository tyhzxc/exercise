{
 "cells": [
  {
   "cell_type": "code",
   "execution_count": 3,
   "metadata": {
    "ExecuteTime": {
     "end_time": "2019-07-23T07:20:38.018878Z",
     "start_time": "2019-07-23T07:20:36.419787Z"
    }
   },
   "outputs": [],
   "source": [
    "import pandas as pd\n",
    "import pathlib\n",
    "cwd = pathlib.Path.cwd()\n",
    "path_data=cwd/'mci1'\n",
    "path_result=pathlib.Path(path_data/'result/')\n",
    "path_result.mkdir(parents=True, exist_ok=True) \n"
   ]
  },
  {
   "cell_type": "code",
   "execution_count": 4,
   "metadata": {
    "ExecuteTime": {
     "end_time": "2019-07-23T07:20:47.626199Z",
     "start_time": "2019-07-23T07:20:38.025859Z"
    }
   },
   "outputs": [
    {
     "name": "stderr",
     "output_type": "stream",
     "text": [
      "C:\\Users\\t\\Anaconda3\\lib\\site-packages\\ipykernel_launcher.py:11: SettingWithCopyWarning: \n",
      "A value is trying to be set on a copy of a slice from a DataFrame\n",
      "\n",
      "See the caveats in the documentation: http://pandas.pydata.org/pandas-docs/stable/indexing.html#indexing-view-versus-copy\n",
      "  # This is added back by InteractiveShellApp.init_path()\n"
     ]
    },
    {
     "data": {
      "text/html": [
       "<div>\n",
       "<style scoped>\n",
       "    .dataframe tbody tr th:only-of-type {\n",
       "        vertical-align: middle;\n",
       "    }\n",
       "\n",
       "    .dataframe tbody tr th {\n",
       "        vertical-align: top;\n",
       "    }\n",
       "\n",
       "    .dataframe thead th {\n",
       "        text-align: right;\n",
       "    }\n",
       "</style>\n",
       "<table border=\"1\" class=\"dataframe\">\n",
       "  <thead>\n",
       "    <tr style=\"text-align: right;\">\n",
       "      <th></th>\n",
       "      <th>site</th>\n",
       "      <th>year</th>\n",
       "      <th>mon</th>\n",
       "      <th>day</th>\n",
       "      <th>var</th>\n",
       "      <th>DateTime</th>\n",
       "      <th>ci</th>\n",
       "    </tr>\n",
       "  </thead>\n",
       "  <tbody>\n",
       "    <tr>\n",
       "      <th>0</th>\n",
       "      <td>57469</td>\n",
       "      <td>1951</td>\n",
       "      <td>1</td>\n",
       "      <td>1</td>\n",
       "      <td>999</td>\n",
       "      <td>1951-01-01</td>\n",
       "      <td>1</td>\n",
       "    </tr>\n",
       "    <tr>\n",
       "      <th>1</th>\n",
       "      <td>57469</td>\n",
       "      <td>1951</td>\n",
       "      <td>1</td>\n",
       "      <td>2</td>\n",
       "      <td>999</td>\n",
       "      <td>1951-01-02</td>\n",
       "      <td>1</td>\n",
       "    </tr>\n",
       "    <tr>\n",
       "      <th>2</th>\n",
       "      <td>57469</td>\n",
       "      <td>1951</td>\n",
       "      <td>1</td>\n",
       "      <td>3</td>\n",
       "      <td>999</td>\n",
       "      <td>1951-01-03</td>\n",
       "      <td>1</td>\n",
       "    </tr>\n",
       "    <tr>\n",
       "      <th>3</th>\n",
       "      <td>57469</td>\n",
       "      <td>1951</td>\n",
       "      <td>1</td>\n",
       "      <td>4</td>\n",
       "      <td>999</td>\n",
       "      <td>1951-01-04</td>\n",
       "      <td>1</td>\n",
       "    </tr>\n",
       "    <tr>\n",
       "      <th>4</th>\n",
       "      <td>57469</td>\n",
       "      <td>1951</td>\n",
       "      <td>1</td>\n",
       "      <td>5</td>\n",
       "      <td>999</td>\n",
       "      <td>1951-01-05</td>\n",
       "      <td>1</td>\n",
       "    </tr>\n",
       "  </tbody>\n",
       "</table>\n",
       "</div>"
      ],
      "text/plain": [
       "    site  year  mon  day  var   DateTime  ci\n",
       "0  57469  1951    1    1  999 1951-01-01   1\n",
       "1  57469  1951    1    2  999 1951-01-02   1\n",
       "2  57469  1951    1    3  999 1951-01-03   1\n",
       "3  57469  1951    1    4  999 1951-01-04   1\n",
       "4  57469  1951    1    5  999 1951-01-05   1"
      ]
     },
     "execution_count": 4,
     "metadata": {},
     "output_type": "execute_result"
    }
   ],
   "source": [
    "#read data\n",
    "df=pd.concat([pd.read_csv(path1,sep='\\s+',header=None)\n",
    "                   for path1 in path_data.rglob('m*')])\n",
    "df.columns=['site','year','mon','day','var']\n",
    "df['DateTime'] = pd.to_datetime(\n",
    "        pd.to_datetime(\n",
    "            df['year']*10000+df['mon']*100+df['day'],\n",
    "            format='%Y%m%d'))\n",
    "df=df.replace({-9990:999})\n",
    "df['ci']=1\n",
    "df['ci'][df['var']<=-6]=0\n",
    "df.head()\n"
   ]
  },
  {
   "cell_type": "code",
   "execution_count": 9,
   "metadata": {
    "ExecuteTime": {
     "end_time": "2019-07-23T07:25:26.501467Z",
     "start_time": "2019-07-23T07:24:43.427079Z"
    }
   },
   "outputs": [],
   "source": [
    "def get_ci(df1,i):\n",
    "    '''计算一次'''\n",
    "    df=df1.copy()\n",
    "    df_data=df[df['sum']==i][1:]\n",
    "    df2=pd.concat([df_data.iloc[1],df_data.iloc[-1]],axis=1).T\n",
    "    df2['var']=df_data['var'].sum()\n",
    "    return df2\n",
    "\n",
    "def q2(df1):\n",
    "    '''计算一站点'''\n",
    "    df=df1.copy()\n",
    "    df['sum']=df['ci'].cumsum()\n",
    "    count=df['sum'].value_counts(ascending=True)\n",
    "    df3=pd.concat([get_ci(df,i) for i in count[count>10].index]).sort_values(by='DateTime', ascending=True).drop(['ci','sum','DateTime'],axis=1)\n",
    "    df3.to_csv((path_result/(str(df3.iloc[1]['site'])+'.txt')),index=None,sep=' ')\n",
    "    return df3\n",
    "result=df.groupby(['site']).apply(q2)\n"
   ]
  },
  {
   "cell_type": "code",
   "execution_count": 10,
   "metadata": {
    "ExecuteTime": {
     "end_time": "2019-07-23T07:25:26.538344Z",
     "start_time": "2019-07-23T07:25:26.524380Z"
    }
   },
   "outputs": [
    {
     "data": {
      "text/plain": [
       "<bound method NDFrame.head of               site  year mon day   var\n",
       "site                                  \n",
       "57469 3106   57469  1959   7   4 -2089\n",
       "      3207   57469  1959  10  13 -2089\n",
       "      3509   57469  1960   8  10  -596\n",
       "      3542   57469  1960   9  12  -596\n",
       "      3568   57469  1960  10   8  -342\n",
       "      3592   57469  1960  11   1  -342\n",
       "      3814   57469  1961   6  11  -238\n",
       "      3839   57469  1961   7   6  -238\n",
       "      3842   57469  1961   7   9  -268\n",
       "      3872   57469  1961   8   8  -268\n",
       "      4223   57469  1962   7  25  -231\n",
       "      4245   57469  1962   8  16  -231\n",
       "      4396   57469  1963   1  14   -74\n",
       "      4405   57469  1963   1  23   -74\n",
       "      4411   57469  1963   1  29  -151\n",
       "      4419   57469  1963   2   6  -151\n",
       "      4434   57469  1963   2  21  -239\n",
       "      4451   57469  1963   3  10  -239\n",
       "      4559   57469  1963   6  26  -248\n",
       "      4573   57469  1963   7  10  -248\n",
       "      4646   57469  1963   9  21  -199\n",
       "      4668   57469  1963  10  13  -199\n",
       "      5132   57469  1965   1  19   -79\n",
       "      5140   57469  1965   1  27   -79\n",
       "      5194   57469  1965   3  22  -202\n",
       "      5207   57469  1965   4   4  -202\n",
       "      5259   57469  1965   5  26  -179\n",
       "      5272   57469  1965   6   8  -179\n",
       "      5276   57469  1965   6  12  -110\n",
       "      5287   57469  1965   6  23  -110\n",
       "...            ...   ...  ..  ..   ...\n",
       "59063 22258  59063  2011  12  10   -94\n",
       "      22269  59063  2011  12  21   -94\n",
       "      22567  59063  2012  10  14  -276\n",
       "      22590  59063  2012  11   6  -276\n",
       "      22701  59063  2013   2  25  -333\n",
       "      22727  59063  2013   3  23  -333\n",
       "      22836  59063  2013   7  10  -540\n",
       "      22872  59063  2013   8  15  -540\n",
       "      22943  59063  2013  10  25  -140\n",
       "      22958  59063  2013  11   9  -140\n",
       "      23027  59063  2014   1  17  -219\n",
       "      23049  59063  2014   2   8  -219\n",
       "      23176  59063  2014   6  15  -709\n",
       "      23240  59063  2014   8  18  -709\n",
       "      23297  59063  2014  10  14  -236\n",
       "      23320  59063  2014  11   6  -236\n",
       "      23476  59063  2015   4  11  -112\n",
       "      23484  59063  2015   4  19  -112\n",
       "      23488  59063  2015   4  23   -74\n",
       "      23496  59063  2015   5   1   -74\n",
       "      24102  59063  2016  12  27  -164\n",
       "      24116  59063  2017   1  10  -164\n",
       "      24253  59063  2017   5  27  -133\n",
       "      24262  59063  2017   6   5  -133\n",
       "      24326  59063  2017   8   8 -1475\n",
       "      24433  59063  2017  11  23 -1475\n",
       "      24629  59063  2018   6   7  -186\n",
       "      24642  59063  2018   6  20  -186\n",
       "      24649  59063  2018   6  27   -79\n",
       "      24658  59063  2018   7   6   -79\n",
       "\n",
       "[26158 rows x 5 columns]>"
      ]
     },
     "execution_count": 10,
     "metadata": {},
     "output_type": "execute_result"
    }
   ],
   "source": [
    "result.head"
   ]
  },
  {
   "cell_type": "code",
   "execution_count": null,
   "metadata": {},
   "outputs": [],
   "source": []
  }
 ],
 "metadata": {
  "kernelspec": {
   "display_name": "Python 3",
   "language": "python",
   "name": "python3"
  },
  "language_info": {
   "codemirror_mode": {
    "name": "ipython",
    "version": 3
   },
   "file_extension": ".py",
   "mimetype": "text/x-python",
   "name": "python",
   "nbconvert_exporter": "python",
   "pygments_lexer": "ipython3",
   "version": "3.7.3"
  },
  "toc": {
   "base_numbering": 1,
   "nav_menu": {},
   "number_sections": true,
   "sideBar": true,
   "skip_h1_title": false,
   "title_cell": "Table of Contents",
   "title_sidebar": "Contents",
   "toc_cell": false,
   "toc_position": {},
   "toc_section_display": true,
   "toc_window_display": false
  },
  "varInspector": {
   "cols": {
    "lenName": 16,
    "lenType": 16,
    "lenVar": 40
   },
   "kernels_config": {
    "python": {
     "delete_cmd_postfix": "",
     "delete_cmd_prefix": "del ",
     "library": "var_list.py",
     "varRefreshCmd": "print(var_dic_list())"
    },
    "r": {
     "delete_cmd_postfix": ") ",
     "delete_cmd_prefix": "rm(",
     "library": "var_list.r",
     "varRefreshCmd": "cat(var_dic_list()) "
    }
   },
   "types_to_exclude": [
    "module",
    "function",
    "builtin_function_or_method",
    "instance",
    "_Feature"
   ],
   "window_display": false
  }
 },
 "nbformat": 4,
 "nbformat_minor": 2
}
