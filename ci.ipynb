{
 "cells": [
  {
   "cell_type": "code",
   "execution_count": 1,
   "metadata": {
    "ExecuteTime": {
     "end_time": "2019-07-23T09:04:10.203956Z",
     "start_time": "2019-07-23T09:04:09.080608Z"
    }
   },
   "outputs": [],
   "source": [
    "import pandas as pd\n",
    "import pathlib\n",
    "cwd = pathlib.Path.cwd()\n",
    "path_data=cwd/'mci1'\n",
    "path_result=pathlib.Path(path_data/'result/')\n",
    "path_result.mkdir(parents=True, exist_ok=True) \n"
   ]
  },
  {
   "cell_type": "code",
   "execution_count": 2,
   "metadata": {
    "ExecuteTime": {
     "end_time": "2019-07-23T09:04:19.835212Z",
     "start_time": "2019-07-23T09:04:10.205960Z"
    }
   },
   "outputs": [
    {
     "name": "stderr",
     "output_type": "stream",
     "text": [
      "C:\\Users\\t\\Anaconda3\\lib\\site-packages\\ipykernel_launcher.py:11: SettingWithCopyWarning: \n",
      "A value is trying to be set on a copy of a slice from a DataFrame\n",
      "\n",
      "See the caveats in the documentation: http://pandas.pydata.org/pandas-docs/stable/indexing.html#indexing-view-versus-copy\n",
      "  # This is added back by InteractiveShellApp.init_path()\n",
      "C:\\Users\\t\\Anaconda3\\lib\\site-packages\\ipykernel_launcher.py:13: SettingWithCopyWarning: \n",
      "A value is trying to be set on a copy of a slice from a DataFrame\n",
      "\n",
      "See the caveats in the documentation: http://pandas.pydata.org/pandas-docs/stable/indexing.html#indexing-view-versus-copy\n",
      "  del sys.path[0]\n"
     ]
    },
    {
     "data": {
      "text/html": [
       "<div>\n",
       "<style scoped>\n",
       "    .dataframe tbody tr th:only-of-type {\n",
       "        vertical-align: middle;\n",
       "    }\n",
       "\n",
       "    .dataframe tbody tr th {\n",
       "        vertical-align: top;\n",
       "    }\n",
       "\n",
       "    .dataframe thead th {\n",
       "        text-align: right;\n",
       "    }\n",
       "</style>\n",
       "<table border=\"1\" class=\"dataframe\">\n",
       "  <thead>\n",
       "    <tr style=\"text-align: right;\">\n",
       "      <th></th>\n",
       "      <th>site</th>\n",
       "      <th>year</th>\n",
       "      <th>mon</th>\n",
       "      <th>day</th>\n",
       "      <th>var</th>\n",
       "      <th>DateTime</th>\n",
       "      <th>ci</th>\n",
       "      <th>ci_x</th>\n",
       "    </tr>\n",
       "  </thead>\n",
       "  <tbody>\n",
       "    <tr>\n",
       "      <th>0</th>\n",
       "      <td>57469</td>\n",
       "      <td>1951</td>\n",
       "      <td>1</td>\n",
       "      <td>1</td>\n",
       "      <td>999</td>\n",
       "      <td>1951-01-01</td>\n",
       "      <td>1</td>\n",
       "      <td>0</td>\n",
       "    </tr>\n",
       "    <tr>\n",
       "      <th>1</th>\n",
       "      <td>57469</td>\n",
       "      <td>1951</td>\n",
       "      <td>1</td>\n",
       "      <td>2</td>\n",
       "      <td>999</td>\n",
       "      <td>1951-01-02</td>\n",
       "      <td>1</td>\n",
       "      <td>0</td>\n",
       "    </tr>\n",
       "    <tr>\n",
       "      <th>2</th>\n",
       "      <td>57469</td>\n",
       "      <td>1951</td>\n",
       "      <td>1</td>\n",
       "      <td>3</td>\n",
       "      <td>999</td>\n",
       "      <td>1951-01-03</td>\n",
       "      <td>1</td>\n",
       "      <td>0</td>\n",
       "    </tr>\n",
       "    <tr>\n",
       "      <th>3</th>\n",
       "      <td>57469</td>\n",
       "      <td>1951</td>\n",
       "      <td>1</td>\n",
       "      <td>4</td>\n",
       "      <td>999</td>\n",
       "      <td>1951-01-04</td>\n",
       "      <td>1</td>\n",
       "      <td>0</td>\n",
       "    </tr>\n",
       "    <tr>\n",
       "      <th>4</th>\n",
       "      <td>57469</td>\n",
       "      <td>1951</td>\n",
       "      <td>1</td>\n",
       "      <td>5</td>\n",
       "      <td>999</td>\n",
       "      <td>1951-01-05</td>\n",
       "      <td>1</td>\n",
       "      <td>0</td>\n",
       "    </tr>\n",
       "  </tbody>\n",
       "</table>\n",
       "</div>"
      ],
      "text/plain": [
       "    site  year  mon  day  var   DateTime  ci  ci_x\n",
       "0  57469  1951    1    1  999 1951-01-01   1     0\n",
       "1  57469  1951    1    2  999 1951-01-02   1     0\n",
       "2  57469  1951    1    3  999 1951-01-03   1     0\n",
       "3  57469  1951    1    4  999 1951-01-04   1     0\n",
       "4  57469  1951    1    5  999 1951-01-05   1     0"
      ]
     },
     "execution_count": 2,
     "metadata": {},
     "output_type": "execute_result"
    }
   ],
   "source": [
    "#read data\n",
    "df=pd.concat([pd.read_csv(path1,sep='\\s+',header=None)\n",
    "                   for path1 in path_data.rglob('m*')])\n",
    "df.columns=['site','year','mon','day','var']\n",
    "df['DateTime'] = pd.to_datetime(\n",
    "        pd.to_datetime(\n",
    "            df['year']*10000+df['mon']*100+df['day'],\n",
    "            format='%Y%m%d'))\n",
    "df=df.replace({-9990:999})\n",
    "df['ci']=1\n",
    "df['ci'][df['var']<=-6]=0\n",
    "df['ci_x']=0\n",
    "df['ci_x'][df['var']<=-6]=1\n",
    "def find_end_index(index, index_list):\n",
    "    diff = index_list.values-index\n",
    "    return len(diff[diff>0])\n",
    "df.head()\n"
   ]
  },
  {
   "cell_type": "code",
   "execution_count": 3,
   "metadata": {
    "ExecuteTime": {
     "end_time": "2019-07-23T09:04:19.844191Z",
     "start_time": "2019-07-23T09:04:19.839203Z"
    }
   },
   "outputs": [],
   "source": [
    "def find_end_index(index, index_list):\n",
    "    diff = index_list.values-index\n",
    "    return len(diff[diff>0])"
   ]
  },
  {
   "cell_type": "code",
   "execution_count": 4,
   "metadata": {
    "ExecuteTime": {
     "end_time": "2019-07-23T09:04:56.464448Z",
     "start_time": "2019-07-23T09:04:19.847181Z"
    }
   },
   "outputs": [],
   "source": [
    "def q2(df1):\n",
    "\n",
    "    df = df1.copy()\n",
    "    df['sum'] = df['ci'].cumsum()\n",
    "    df['sum_x'] = df['ci_x'].cumsum()\n",
    "    count = df['sum'].value_counts(ascending=True)\n",
    "    count_x = df['sum_x'].value_counts(ascending=True)\n",
    "    # 开始时间序列\n",
    "    df_start = pd.concat([df[df['sum'] == i].iloc[1] for i in count[count >\n",
    "                                                                    10].index], axis=1).T.sort_values(by='DateTime', ascending=True)\n",
    "    # 结束时间序列\n",
    "    df_end = pd.concat([df[df['sum_x'] == i].iloc[0] for i in count_x[count_x >\n",
    "                                                                       10].index], axis=1).T.sort_values(by='DateTime', ascending=True)\n",
    "    # 匹配\n",
    "    df_end_sle = pd.concat([df_end.iloc[-find_end_index(i, df_end.index)]\n",
    "                            for i in df_start.index], axis=1).T\n",
    "    # 计算ci和\n",
    "    for i in range(len(df_start)):\n",
    "        var = df.loc[df_start.index[i]:df_end_sle.index[i], :]['var'].sum()\n",
    "        df_start.iloc[i]['var'] = df_end_sle.iloc[i]['var'] = var\n",
    "    #输出\n",
    "    df3 = pd.concat([df_start, df_end_sle, ]).sort_values(\n",
    "        by='DateTime', ascending=True).drop(['DateTime', 'ci', 'ci_x', 'sum',\n",
    "       'sum_x'],axis=1)\n",
    "    df3.to_csv(\n",
    "        (path_result/(str(df3.iloc[1]['site'])+'.txt')), index=None, sep=' ')\n",
    "    return df3\n",
    "\n",
    "result = df.groupby(['site']).apply(q2)"
   ]
  },
  {
   "cell_type": "code",
   "execution_count": 5,
   "metadata": {
    "ExecuteTime": {
     "end_time": "2019-07-23T09:04:56.478414Z",
     "start_time": "2019-07-23T09:04:56.465447Z"
    }
   },
   "outputs": [
    {
     "data": {
      "text/plain": [
       "<bound method NDFrame.head of               site  year mon day    var\n",
       "site                                   \n",
       "57469 3105   57469  1959   7   3  -2159\n",
       "      3223   57469  1959  10  29  -2159\n",
       "      3508   57469  1960   8   9   -596\n",
       "      3542   57469  1960   9  12   -596\n",
       "      3567   57469  1960  10   7   -342\n",
       "      3592   57469  1960  11   1   -342\n",
       "      3813   57469  1961   6  10   -509\n",
       "      3841   57469  1961   7   8   -268\n",
       "      3872   57469  1961   8   8   -509\n",
       "      3872   57469  1961   8   8   -268\n",
       "      4222   57469  1962   7  24   -231\n",
       "      4245   57469  1962   8  16   -231\n",
       "      4395   57469  1963   1  13   -244\n",
       "      4410   57469  1963   1  28   -151\n",
       "      4419   57469  1963   2   6   -244\n",
       "      4419   57469  1963   2   6   -151\n",
       "      4433   57469  1963   2  20   -239\n",
       "      4451   57469  1963   3  10   -239\n",
       "      4558   57469  1963   6  25   -248\n",
       "      4573   57469  1963   7  10   -248\n",
       "      4645   57469  1963   9  20   -322\n",
       "      4690   57469  1963  11   4   -322\n",
       "      5131   57469  1965   1  18    -79\n",
       "      5140   57469  1965   1  27    -79\n",
       "      5193   57469  1965   3  21   -202\n",
       "      5207   57469  1965   4   4   -202\n",
       "      5258   57469  1965   5  25   -386\n",
       "      5275   57469  1965   6  11   -197\n",
       "      5308   57469  1965   7  14   -197\n",
       "      5308   57469  1965   7  14   -386\n",
       "...            ...   ...  ..  ..    ...\n",
       "59063 22257  59063  2011  12   9    -94\n",
       "      22269  59063  2011  12  21    -94\n",
       "      22566  59063  2012  10  13   -276\n",
       "      22590  59063  2012  11   6   -276\n",
       "      22700  59063  2013   2  24   -344\n",
       "      22729  59063  2013   3  25   -344\n",
       "      22835  59063  2013   7   9   -540\n",
       "      22872  59063  2013   8  15   -540\n",
       "      22942  59063  2013  10  24   -140\n",
       "      22958  59063  2013  11   9   -140\n",
       "      23026  59063  2014   1  16   -251\n",
       "      23056  59063  2014   2  15   -251\n",
       "      23175  59063  2014   6  14   -709\n",
       "      23240  59063  2014   8  18   -709\n",
       "      23296  59063  2014  10  13   -236\n",
       "      23320  59063  2014  11   6   -236\n",
       "      23475  59063  2015   4  10   -189\n",
       "      23487  59063  2015   4  22    -74\n",
       "      23496  59063  2015   5   1    -74\n",
       "      23496  59063  2015   5   1   -189\n",
       "      24101  59063  2016  12  26   -164\n",
       "      24116  59063  2017   1  10   -164\n",
       "      24252  59063  2017   5  26   -257\n",
       "      24283  59063  2017   6  26   -257\n",
       "      24325  59063  2017   8   7  -1475\n",
       "      24433  59063  2017  11  23  -1475\n",
       "      24628  59063  2018   6   6   -282\n",
       "      24648  59063  2018   6  26    -79\n",
       "      24658  59063  2018   7   6   -282\n",
       "      24658  59063  2018   7   6    -79\n",
       "\n",
       "[26158 rows x 5 columns]>"
      ]
     },
     "execution_count": 5,
     "metadata": {},
     "output_type": "execute_result"
    }
   ],
   "source": [
    "result"
   ]
  },
  {
   "cell_type": "code",
   "execution_count": null,
   "metadata": {},
   "outputs": [],
   "source": []
  },
  {
   "cell_type": "code",
   "execution_count": null,
   "metadata": {},
   "outputs": [],
   "source": []
  }
 ],
 "metadata": {
  "kernelspec": {
   "display_name": "Python 3",
   "language": "python",
   "name": "python3"
  },
  "language_info": {
   "codemirror_mode": {
    "name": "ipython",
    "version": 3
   },
   "file_extension": ".py",
   "mimetype": "text/x-python",
   "name": "python",
   "nbconvert_exporter": "python",
   "pygments_lexer": "ipython3",
   "version": "3.7.3"
  },
  "toc": {
   "base_numbering": 1,
   "nav_menu": {},
   "number_sections": true,
   "sideBar": true,
   "skip_h1_title": false,
   "title_cell": "Table of Contents",
   "title_sidebar": "Contents",
   "toc_cell": false,
   "toc_position": {},
   "toc_section_display": true,
   "toc_window_display": false
  },
  "varInspector": {
   "cols": {
    "lenName": 16,
    "lenType": 16,
    "lenVar": 40
   },
   "kernels_config": {
    "python": {
     "delete_cmd_postfix": "",
     "delete_cmd_prefix": "del ",
     "library": "var_list.py",
     "varRefreshCmd": "print(var_dic_list())"
    },
    "r": {
     "delete_cmd_postfix": ") ",
     "delete_cmd_prefix": "rm(",
     "library": "var_list.r",
     "varRefreshCmd": "cat(var_dic_list()) "
    }
   },
   "types_to_exclude": [
    "module",
    "function",
    "builtin_function_or_method",
    "instance",
    "_Feature"
   ],
   "window_display": false
  }
 },
 "nbformat": 4,
 "nbformat_minor": 2
}
