{
 "cells": [
  {
   "cell_type": "code",
   "execution_count": 1,
   "metadata": {
    "ExecuteTime": {
     "end_time": "2019-07-23T09:04:10.203956Z",
     "start_time": "2019-07-23T09:04:09.080608Z"
    }
   },
   "outputs": [],
   "source": [
    "import pandas as pd\n",
    "import pathlib\n",
    "cwd = pathlib.Path.cwd()\n",
    "path_data=cwd/'mci1'\n",
    "path_result=pathlib.Path(path_data/'result/')\n",
    "path_result.mkdir(parents=True, exist_ok=True) \n"
   ]
  },
  {
   "cell_type": "code",
   "execution_count": 2,
   "metadata": {
    "ExecuteTime": {
     "end_time": "2019-07-23T09:04:19.835212Z",
     "start_time": "2019-07-23T09:04:10.205960Z"
    }
   },
   "outputs": [
    {
     "name": "stderr",
     "output_type": "stream",
     "text": [
      "C:\\Users\\t\\Anaconda3\\lib\\site-packages\\ipykernel_launcher.py:11: SettingWithCopyWarning: \n",
      "A value is trying to be set on a copy of a slice from a DataFrame\n",
      "\n",
      "See the caveats in the documentation: http://pandas.pydata.org/pandas-docs/stable/indexing.html#indexing-view-versus-copy\n",
      "  # This is added back by InteractiveShellApp.init_path()\n",
      "C:\\Users\\t\\Anaconda3\\lib\\site-packages\\ipykernel_launcher.py:13: SettingWithCopyWarning: \n",
      "A value is trying to be set on a copy of a slice from a DataFrame\n",
      "\n",
      "See the caveats in the documentation: http://pandas.pydata.org/pandas-docs/stable/indexing.html#indexing-view-versus-copy\n",
      "  del sys.path[0]\n"
     ]
    },
    {
     "data": {
      "text/html": [
       "<div>\n",
       "<style scoped>\n",
       "    .dataframe tbody tr th:only-of-type {\n",
       "        vertical-align: middle;\n",
       "    }\n",
       "\n",
       "    .dataframe tbody tr th {\n",
       "        vertical-align: top;\n",
       "    }\n",
       "\n",
       "    .dataframe thead th {\n",
       "        text-align: right;\n",
       "    }\n",
       "</style>\n",
       "<table border=\"1\" class=\"dataframe\">\n",
       "  <thead>\n",
       "    <tr style=\"text-align: right;\">\n",
       "      <th></th>\n",
       "      <th>site</th>\n",
       "      <th>year</th>\n",
       "      <th>mon</th>\n",
       "      <th>day</th>\n",
       "      <th>var</th>\n",
       "      <th>DateTime</th>\n",
       "      <th>ci</th>\n",
       "      <th>ci_x</th>\n",
       "    </tr>\n",
       "  </thead>\n",
       "  <tbody>\n",
       "    <tr>\n",
       "      <th>0</th>\n",
       "      <td>57469</td>\n",
       "      <td>1951</td>\n",
       "      <td>1</td>\n",
       "      <td>1</td>\n",
       "      <td>999</td>\n",
       "      <td>1951-01-01</td>\n",
       "      <td>1</td>\n",
       "      <td>0</td>\n",
       "    </tr>\n",
       "    <tr>\n",
       "      <th>1</th>\n",
       "      <td>57469</td>\n",
       "      <td>1951</td>\n",
       "      <td>1</td>\n",
       "      <td>2</td>\n",
       "      <td>999</td>\n",
       "      <td>1951-01-02</td>\n",
       "      <td>1</td>\n",
       "      <td>0</td>\n",
       "    </tr>\n",
       "    <tr>\n",
       "      <th>2</th>\n",
       "      <td>57469</td>\n",
       "      <td>1951</td>\n",
       "      <td>1</td>\n",
       "      <td>3</td>\n",
       "      <td>999</td>\n",
       "      <td>1951-01-03</td>\n",
       "      <td>1</td>\n",
       "      <td>0</td>\n",
       "    </tr>\n",
       "    <tr>\n",
       "      <th>3</th>\n",
       "      <td>57469</td>\n",
       "      <td>1951</td>\n",
       "      <td>1</td>\n",
       "      <td>4</td>\n",
       "      <td>999</td>\n",
       "      <td>1951-01-04</td>\n",
       "      <td>1</td>\n",
       "      <td>0</td>\n",
       "    </tr>\n",
       "    <tr>\n",
       "      <th>4</th>\n",
       "      <td>57469</td>\n",
       "      <td>1951</td>\n",
       "      <td>1</td>\n",
       "      <td>5</td>\n",
       "      <td>999</td>\n",
       "      <td>1951-01-05</td>\n",
       "      <td>1</td>\n",
       "      <td>0</td>\n",
       "    </tr>\n",
       "  </tbody>\n",
       "</table>\n",
       "</div>"
      ],
      "text/plain": [
       "    site  year  mon  day  var   DateTime  ci  ci_x\n",
       "0  57469  1951    1    1  999 1951-01-01   1     0\n",
       "1  57469  1951    1    2  999 1951-01-02   1     0\n",
       "2  57469  1951    1    3  999 1951-01-03   1     0\n",
       "3  57469  1951    1    4  999 1951-01-04   1     0\n",
       "4  57469  1951    1    5  999 1951-01-05   1     0"
      ]
     },
     "execution_count": 2,
     "metadata": {},
     "output_type": "execute_result"
    }
   ],
   "source": [
    "#read data\n",
    "df=pd.concat([pd.read_csv(path1,sep='\\s+',header=None)\n",
    "                   for path1 in path_data.rglob('m*')])\n",
    "df.columns=['site','year','mon','day','var']\n",
    "df['DateTime'] = pd.to_datetime(\n",
    "        pd.to_datetime(\n",
    "            df['year']*10000+df['mon']*100+df['day'],\n",
    "            format='%Y%m%d'))\n",
    "df=df.replace({-9990:999})\n",
    "df['ci']=1\n",
    "df['ci'][df['var']<=-6]=0\n",
    "df['ci_x']=0\n",
    "df['ci_x'][df['var']<=-6]=1\n",
    "def find_end_index(index, index_list):\n",
    "    diff = index_list.values-index\n",
    "    return len(diff[diff>0])\n",
    "df.head()\n"
   ]
  },
  {
   "cell_type": "code",
   "execution_count": null,
   "metadata": {
    "ExecuteTime": {
     "start_time": "2019-07-23T09:04:09.072Z"
    }
   },
   "outputs": [],
   "source": [
    "def find_end_index(index, index_list):\n",
    "    diff = index_list.values-index\n",
    "    return len(diff[diff>0])"
   ]
  },
  {
   "cell_type": "code",
   "execution_count": null,
   "metadata": {
    "ExecuteTime": {
     "start_time": "2019-07-23T09:04:09.075Z"
    }
   },
   "outputs": [],
   "source": [
    "def q2(df1):\n",
    "\n",
    "    df = df1.copy()\n",
    "    df['sum'] = df['ci'].cumsum()\n",
    "    df['sum_x'] = df['ci_x'].cumsum()\n",
    "    count = df['sum'].value_counts(ascending=True)\n",
    "    count_x = df['sum_x'].value_counts(ascending=True)\n",
    "    # 开始时间序列\n",
    "    df_start = pd.concat([df[df['sum'] == i].iloc[1] for i in count[count >\n",
    "                                                                    10].index], axis=1).T.sort_values(by='DateTime', ascending=True)\n",
    "    # 结束时间序列\n",
    "    df_end = pd.concat([df[df['sum_x'] == i].iloc[0] for i in count_x[count_x >\n",
    "                                                                       10].index], axis=1).T.sort_values(by='DateTime', ascending=True)\n",
    "    # 匹配\n",
    "    df_end_sle = pd.concat([df_end.iloc[-find_end_index(i, df_end.index)]\n",
    "                            for i in df_start.index], axis=1).T\n",
    "    # 计算ci和\n",
    "    for i in range(len(df_start)):\n",
    "        var = df.loc[df_start.index[i]:df_end_sle.index[i], :]['var'].sum()\n",
    "        df_start.iloc[i]['var'] = df_end_sle.iloc[i]['var'] = var\n",
    "    #输出\n",
    "    df3 = pd.concat([df_start, df_end_sle, ]).sort_values(\n",
    "        by='DateTime', ascending=True).drop(['DateTime', 'ci', 'ci_x', 'sum',\n",
    "       'sum_x'],axis=1)\n",
    "    df3.to_csv(\n",
    "        (path_result/(str(df3.iloc[1]['site'])+'.txt')), index=None, sep=' ')\n",
    "    return df3\n",
    "\n",
    "result = df.groupby(['site']).apply(q2)"
   ]
  },
  {
   "cell_type": "code",
   "execution_count": null,
   "metadata": {
    "ExecuteTime": {
     "start_time": "2019-07-23T09:04:09.077Z"
    }
   },
   "outputs": [],
   "source": [
    "result.head"
   ]
  },
  {
   "cell_type": "code",
   "execution_count": null,
   "metadata": {},
   "outputs": [],
   "source": []
  },
  {
   "cell_type": "code",
   "execution_count": null,
   "metadata": {},
   "outputs": [],
   "source": []
  }
 ],
 "metadata": {
  "kernelspec": {
   "display_name": "Python 3",
   "language": "python",
   "name": "python3"
  },
  "language_info": {
   "codemirror_mode": {
    "name": "ipython",
    "version": 3
   },
   "file_extension": ".py",
   "mimetype": "text/x-python",
   "name": "python",
   "nbconvert_exporter": "python",
   "pygments_lexer": "ipython3",
   "version": "3.7.3"
  },
  "toc": {
   "base_numbering": 1,
   "nav_menu": {},
   "number_sections": true,
   "sideBar": true,
   "skip_h1_title": false,
   "title_cell": "Table of Contents",
   "title_sidebar": "Contents",
   "toc_cell": false,
   "toc_position": {},
   "toc_section_display": true,
   "toc_window_display": false
  },
  "varInspector": {
   "cols": {
    "lenName": 16,
    "lenType": 16,
    "lenVar": 40
   },
   "kernels_config": {
    "python": {
     "delete_cmd_postfix": "",
     "delete_cmd_prefix": "del ",
     "library": "var_list.py",
     "varRefreshCmd": "print(var_dic_list())"
    },
    "r": {
     "delete_cmd_postfix": ") ",
     "delete_cmd_prefix": "rm(",
     "library": "var_list.r",
     "varRefreshCmd": "cat(var_dic_list()) "
    }
   },
   "types_to_exclude": [
    "module",
    "function",
    "builtin_function_or_method",
    "instance",
    "_Feature"
   ],
   "window_display": false
  }
 },
 "nbformat": 4,
 "nbformat_minor": 2
}
