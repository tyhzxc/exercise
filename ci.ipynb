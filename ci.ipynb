{
 "cells": [
  {
   "cell_type": "code",
   "execution_count": 1,
   "metadata": {
    "ExecuteTime": {
     "end_time": "2019-07-23T08:51:59.318120Z",
     "start_time": "2019-07-23T08:51:58.009661Z"
    }
   },
   "outputs": [],
   "source": [
    "import pandas as pd\n",
    "import pathlib\n",
    "cwd = pathlib.Path.cwd()\n",
    "path_data=cwd/'mci1'\n",
    "path_result=pathlib.Path(path_data/'result/')\n",
    "path_result.mkdir(parents=True, exist_ok=True) \n"
   ]
  },
  {
   "cell_type": "code",
   "execution_count": 4,
   "metadata": {
    "ExecuteTime": {
     "end_time": "2019-07-23T08:52:32.775460Z",
     "start_time": "2019-07-23T08:52:23.201050Z"
    }
   },
   "outputs": [
    {
     "name": "stderr",
     "output_type": "stream",
     "text": [
      "C:\\Users\\t\\Anaconda3\\lib\\site-packages\\ipykernel_launcher.py:11: SettingWithCopyWarning: \n",
      "A value is trying to be set on a copy of a slice from a DataFrame\n",
      "\n",
      "See the caveats in the documentation: http://pandas.pydata.org/pandas-docs/stable/indexing.html#indexing-view-versus-copy\n",
      "  # This is added back by InteractiveShellApp.init_path()\n",
      "C:\\Users\\t\\Anaconda3\\lib\\site-packages\\ipykernel_launcher.py:13: SettingWithCopyWarning: \n",
      "A value is trying to be set on a copy of a slice from a DataFrame\n",
      "\n",
      "See the caveats in the documentation: http://pandas.pydata.org/pandas-docs/stable/indexing.html#indexing-view-versus-copy\n",
      "  del sys.path[0]\n"
     ]
    },
    {
     "data": {
      "text/html": [
       "<div>\n",
       "<style scoped>\n",
       "    .dataframe tbody tr th:only-of-type {\n",
       "        vertical-align: middle;\n",
       "    }\n",
       "\n",
       "    .dataframe tbody tr th {\n",
       "        vertical-align: top;\n",
       "    }\n",
       "\n",
       "    .dataframe thead th {\n",
       "        text-align: right;\n",
       "    }\n",
       "</style>\n",
       "<table border=\"1\" class=\"dataframe\">\n",
       "  <thead>\n",
       "    <tr style=\"text-align: right;\">\n",
       "      <th></th>\n",
       "      <th>site</th>\n",
       "      <th>year</th>\n",
       "      <th>mon</th>\n",
       "      <th>day</th>\n",
       "      <th>var</th>\n",
       "      <th>DateTime</th>\n",
       "      <th>ci</th>\n",
       "      <th>ci_x</th>\n",
       "    </tr>\n",
       "  </thead>\n",
       "  <tbody>\n",
       "    <tr>\n",
       "      <th>0</th>\n",
       "      <td>57469</td>\n",
       "      <td>1951</td>\n",
       "      <td>1</td>\n",
       "      <td>1</td>\n",
       "      <td>999</td>\n",
       "      <td>1951-01-01</td>\n",
       "      <td>1</td>\n",
       "      <td>0</td>\n",
       "    </tr>\n",
       "    <tr>\n",
       "      <th>1</th>\n",
       "      <td>57469</td>\n",
       "      <td>1951</td>\n",
       "      <td>1</td>\n",
       "      <td>2</td>\n",
       "      <td>999</td>\n",
       "      <td>1951-01-02</td>\n",
       "      <td>1</td>\n",
       "      <td>0</td>\n",
       "    </tr>\n",
       "    <tr>\n",
       "      <th>2</th>\n",
       "      <td>57469</td>\n",
       "      <td>1951</td>\n",
       "      <td>1</td>\n",
       "      <td>3</td>\n",
       "      <td>999</td>\n",
       "      <td>1951-01-03</td>\n",
       "      <td>1</td>\n",
       "      <td>0</td>\n",
       "    </tr>\n",
       "    <tr>\n",
       "      <th>3</th>\n",
       "      <td>57469</td>\n",
       "      <td>1951</td>\n",
       "      <td>1</td>\n",
       "      <td>4</td>\n",
       "      <td>999</td>\n",
       "      <td>1951-01-04</td>\n",
       "      <td>1</td>\n",
       "      <td>0</td>\n",
       "    </tr>\n",
       "    <tr>\n",
       "      <th>4</th>\n",
       "      <td>57469</td>\n",
       "      <td>1951</td>\n",
       "      <td>1</td>\n",
       "      <td>5</td>\n",
       "      <td>999</td>\n",
       "      <td>1951-01-05</td>\n",
       "      <td>1</td>\n",
       "      <td>0</td>\n",
       "    </tr>\n",
       "  </tbody>\n",
       "</table>\n",
       "</div>"
      ],
      "text/plain": [
       "    site  year  mon  day  var   DateTime  ci  ci_x\n",
       "0  57469  1951    1    1  999 1951-01-01   1     0\n",
       "1  57469  1951    1    2  999 1951-01-02   1     0\n",
       "2  57469  1951    1    3  999 1951-01-03   1     0\n",
       "3  57469  1951    1    4  999 1951-01-04   1     0\n",
       "4  57469  1951    1    5  999 1951-01-05   1     0"
      ]
     },
     "execution_count": 4,
     "metadata": {},
     "output_type": "execute_result"
    }
   ],
   "source": [
    "#read data\n",
    "df=pd.concat([pd.read_csv(path1,sep='\\s+',header=None)\n",
    "                   for path1 in path_data.rglob('m*')])\n",
    "df.columns=['site','year','mon','day','var']\n",
    "df['DateTime'] = pd.to_datetime(\n",
    "        pd.to_datetime(\n",
    "            df['year']*10000+df['mon']*100+df['day'],\n",
    "            format='%Y%m%d'))\n",
    "df=df.replace({-9990:999})\n",
    "df['ci']=1\n",
    "df['ci'][df['var']<=-6]=0\n",
    "df['ci_x']=0\n",
    "df['ci_x'][df['var']<=-6]=1\n",
    "def find_end_index(index, index_list):\n",
    "    diff = index_list.values-index\n",
    "    return len(diff[diff>0])\n",
    "df.head()\n"
   ]
  },
  {
   "cell_type": "code",
   "execution_count": 6,
   "metadata": {
    "ExecuteTime": {
     "end_time": "2019-07-23T08:52:52.332880Z",
     "start_time": "2019-07-23T08:52:52.327895Z"
    }
   },
   "outputs": [],
   "source": [
    "def find_end_index(index, index_list):\n",
    "    diff = index_list.values-index\n",
    "    return len(diff[diff>0])"
   ]
  },
  {
   "cell_type": "code",
   "execution_count": 12,
   "metadata": {
    "ExecuteTime": {
     "end_time": "2019-07-23T08:56:00.870720Z",
     "start_time": "2019-07-23T08:55:24.681708Z"
    }
   },
   "outputs": [],
   "source": [
    "def q2(df1):\n",
    "\n",
    "    df = df1.copy()\n",
    "    df['sum'] = df['ci'].cumsum()\n",
    "    df['sum_x'] = df['ci_x'].cumsum()\n",
    "    count = df['sum'].value_counts(ascending=True)\n",
    "    count_x = df['sum_x'].value_counts(ascending=True)\n",
    "    # 开始时间序列\n",
    "    df_start = pd.concat([df[df['sum'] == i].iloc[1] for i in count[count >\n",
    "                                                                    10].index], axis=1).T.sort_values(by='DateTime', ascending=True)\n",
    "    # 结束时间序列\n",
    "    df_end = pd.concat([df[df['sum_x'] == i].iloc[10] for i in count_x[count_x >\n",
    "                                                                       10].index], axis=1).T.sort_values(by='DateTime', ascending=True)\n",
    "    # 匹配\n",
    "    df_end_sle = pd.concat([df_end.iloc[-find_end_index(i, df_end.index)]\n",
    "                            for i in df_start.index], axis=1).T\n",
    "    # 计算ci和\n",
    "    for i in range(len(df_start)):\n",
    "        var = df.loc[df_start.index[i]:df_end_sle.index[i], :]['var'].sum()\n",
    "        df_start.iloc[i]['var'] = df_end_sle.iloc[i]['var'] = var\n",
    "    #输出\n",
    "    df3 = pd.concat([df_start, df_end_sle, ]).sort_values(\n",
    "        by='DateTime', ascending=True).drop(['DateTime', 'ci', 'ci_x', 'sum',\n",
    "       'sum_x'],axis=1)\n",
    "    df3.to_csv(\n",
    "        (path_result/(str(df3.iloc[1]['site'])+'.txt')), index=None, sep=' ')\n",
    "    return df3\n",
    "\n",
    "result = df.groupby(['site']).apply(q2)"
   ]
  },
  {
   "cell_type": "code",
   "execution_count": 13,
   "metadata": {
    "ExecuteTime": {
     "end_time": "2019-07-23T08:56:00.907623Z",
     "start_time": "2019-07-23T08:56:00.894627Z"
    }
   },
   "outputs": [
    {
     "data": {
      "text/plain": [
       "<bound method NDFrame.head of               site  year mon day    var\n",
       "site                                   \n",
       "57469 3105   57469  1959   7   3  -2153\n",
       "      3233   57469  1959  11   8  -2153\n",
       "      3508   57469  1960   8   9   -619\n",
       "      3552   57469  1960   9  22   -619\n",
       "      3567   57469  1960  10   7   -340\n",
       "      3602   57469  1960  11  11   -340\n",
       "      3813   57469  1961   6  10   -545\n",
       "      3841   57469  1961   7   8   -304\n",
       "      3882   57469  1961   8  18   -545\n",
       "      3882   57469  1961   8  18   -304\n",
       "      4222   57469  1962   7  24   -215\n",
       "      4255   57469  1962   8  26   -215\n",
       "      4395   57469  1963   1  13   -268\n",
       "      4410   57469  1963   1  28   -175\n",
       "      4429   57469  1963   2  16   -268\n",
       "      4429   57469  1963   2  16   -175\n",
       "      4433   57469  1963   2  20   -240\n",
       "      4461   57469  1963   3  20   -240\n",
       "      4558   57469  1963   6  25   -280\n",
       "      4583   57469  1963   7  20   -280\n",
       "      4645   57469  1963   9  20   -334\n",
       "      4700   57469  1963  11  14   -334\n",
       "      5131   57469  1965   1  18    -90\n",
       "      5150   57469  1965   2   6    -90\n",
       "      5193   57469  1965   3  21   -196\n",
       "      5217   57469  1965   4  14   -196\n",
       "      5258   57469  1965   5  25   -398\n",
       "      5275   57469  1965   6  11   -209\n",
       "      5318   57469  1965   7  24   -209\n",
       "      5318   57469  1965   7  24   -398\n",
       "...            ...   ...  ..  ..    ...\n",
       "59063 22257  59063  2011  12   9   -134\n",
       "      22279  59063  2011  12  31   -134\n",
       "      22566  59063  2012  10  13   -269\n",
       "      22600  59063  2012  11  16   -269\n",
       "      22700  59063  2013   2  24   -330\n",
       "      22739  59063  2013   4   4   -330\n",
       "      22835  59063  2013   7   9   -513\n",
       "      22882  59063  2013   8  25   -513\n",
       "      22942  59063  2013  10  24   -134\n",
       "      22968  59063  2013  11  19   -134\n",
       "      23026  59063  2014   1  16   -251\n",
       "      23066  59063  2014   2  25   -251\n",
       "      23175  59063  2014   6  14   -689\n",
       "      23250  59063  2014   8  28   -689\n",
       "      23296  59063  2014  10  13   -222\n",
       "      23330  59063  2014  11  16   -222\n",
       "      23475  59063  2015   4  10   -185\n",
       "      23487  59063  2015   4  22    -70\n",
       "      23506  59063  2015   5  11    -70\n",
       "      23506  59063  2015   5  11   -185\n",
       "      24101  59063  2016  12  26   -145\n",
       "      24126  59063  2017   1  20   -145\n",
       "      24252  59063  2017   5  26   -256\n",
       "      24293  59063  2017   7   6   -256\n",
       "      24325  59063  2017   8   7  -1489\n",
       "      24443  59063  2017  12   3  -1489\n",
       "      24628  59063  2018   6   6   -257\n",
       "      24648  59063  2018   6  26    -54\n",
       "      24668  59063  2018   7  16   -257\n",
       "      24668  59063  2018   7  16    -54\n",
       "\n",
       "[26158 rows x 5 columns]>"
      ]
     },
     "execution_count": 13,
     "metadata": {},
     "output_type": "execute_result"
    }
   ],
   "source": [
    "result.head"
   ]
  },
  {
   "cell_type": "code",
   "execution_count": null,
   "metadata": {},
   "outputs": [],
   "source": []
  },
  {
   "cell_type": "code",
   "execution_count": null,
   "metadata": {},
   "outputs": [],
   "source": []
  }
 ],
 "metadata": {
  "kernelspec": {
   "display_name": "Python 3",
   "language": "python",
   "name": "python3"
  },
  "language_info": {
   "codemirror_mode": {
    "name": "ipython",
    "version": 3
   },
   "file_extension": ".py",
   "mimetype": "text/x-python",
   "name": "python",
   "nbconvert_exporter": "python",
   "pygments_lexer": "ipython3",
   "version": "3.7.3"
  },
  "toc": {
   "base_numbering": 1,
   "nav_menu": {},
   "number_sections": true,
   "sideBar": true,
   "skip_h1_title": false,
   "title_cell": "Table of Contents",
   "title_sidebar": "Contents",
   "toc_cell": false,
   "toc_position": {},
   "toc_section_display": true,
   "toc_window_display": false
  },
  "varInspector": {
   "cols": {
    "lenName": 16,
    "lenType": 16,
    "lenVar": 40
   },
   "kernels_config": {
    "python": {
     "delete_cmd_postfix": "",
     "delete_cmd_prefix": "del ",
     "library": "var_list.py",
     "varRefreshCmd": "print(var_dic_list())"
    },
    "r": {
     "delete_cmd_postfix": ") ",
     "delete_cmd_prefix": "rm(",
     "library": "var_list.r",
     "varRefreshCmd": "cat(var_dic_list()) "
    }
   },
   "types_to_exclude": [
    "module",
    "function",
    "builtin_function_or_method",
    "instance",
    "_Feature"
   ],
   "window_display": false
  }
 },
 "nbformat": 4,
 "nbformat_minor": 2
}
